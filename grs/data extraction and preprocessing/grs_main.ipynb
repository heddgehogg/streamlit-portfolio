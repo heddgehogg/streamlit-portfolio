{
 "cells": [
  {
   "cell_type": "code",
   "execution_count": 1,
   "metadata": {
    "executionInfo": {
     "elapsed": 519,
     "status": "ok",
     "timestamp": 1658388182614,
     "user": {
      "displayName": "Soham Vishwasrao",
      "userId": "03759289313896667384"
     },
     "user_tz": -330
    },
    "id": "gbBHGaup9_NJ"
   },
   "outputs": [],
   "source": [
    "import pandas as pd\n",
    "import numpy as np"
   ]
  },
  {
   "cell_type": "code",
   "execution_count": 3,
   "metadata": {
    "executionInfo": {
     "elapsed": 4,
     "status": "ok",
     "timestamp": 1658388562841,
     "user": {
      "displayName": "Soham Vishwasrao",
      "userId": "03759289313896667384"
     },
     "user_tz": -330
    },
    "id": "b1AFU4sPBajA"
   },
   "outputs": [],
   "source": [
    "df = pd.read_csv('data4.csv')"
   ]
  },
  {
   "cell_type": "code",
   "execution_count": 4,
   "metadata": {
    "colab": {
     "base_uri": "https://localhost:8080/",
     "height": 206
    },
    "executionInfo": {
     "elapsed": 438,
     "status": "ok",
     "timestamp": 1658388566959,
     "user": {
      "displayName": "Soham Vishwasrao",
      "userId": "03759289313896667384"
     },
     "user_tz": -330
    },
    "id": "G_5Xsj6OCqBA",
    "outputId": "50c80f92-b121-4fbe-a717-58db7022b658"
   },
   "outputs": [
    {
     "data": {
      "text/html": [
       "<div>\n",
       "<style scoped>\n",
       "    .dataframe tbody tr th:only-of-type {\n",
       "        vertical-align: middle;\n",
       "    }\n",
       "\n",
       "    .dataframe tbody tr th {\n",
       "        vertical-align: top;\n",
       "    }\n",
       "\n",
       "    .dataframe thead th {\n",
       "        text-align: right;\n",
       "    }\n",
       "</style>\n",
       "<table border=\"1\" class=\"dataframe\">\n",
       "  <thead>\n",
       "    <tr style=\"text-align: right;\">\n",
       "      <th></th>\n",
       "      <th>Unnamed: 0</th>\n",
       "      <th>steam_appid</th>\n",
       "      <th>name</th>\n",
       "      <th>tags</th>\n",
       "    </tr>\n",
       "  </thead>\n",
       "  <tbody>\n",
       "    <tr>\n",
       "      <th>0</th>\n",
       "      <td>0</td>\n",
       "      <td>730</td>\n",
       "      <td>Counter-Strike: Global Offensive</td>\n",
       "      <td>action multiplayer steamachievements fullcontr...</td>\n",
       "    </tr>\n",
       "    <tr>\n",
       "      <th>1</th>\n",
       "      <td>1</td>\n",
       "      <td>570</td>\n",
       "      <td>Dota 2</td>\n",
       "      <td>action multiplayer coop steamtradingcards stea...</td>\n",
       "    </tr>\n",
       "    <tr>\n",
       "      <th>2</th>\n",
       "      <td>2</td>\n",
       "      <td>578080</td>\n",
       "      <td>PUBG: BATTLEGROUNDS</td>\n",
       "      <td>action multiplayer pvp onlinepvp stats remotep...</td>\n",
       "    </tr>\n",
       "    <tr>\n",
       "      <th>3</th>\n",
       "      <td>3</td>\n",
       "      <td>1172470</td>\n",
       "      <td>Apex Legends</td>\n",
       "      <td>action multiplayer pvp onlinepvp coop onlineco...</td>\n",
       "    </tr>\n",
       "    <tr>\n",
       "      <th>4</th>\n",
       "      <td>4</td>\n",
       "      <td>1446780</td>\n",
       "      <td>MONSTER HUNTER RISE</td>\n",
       "      <td>action singleplayer multiplayer coop onlinecoo...</td>\n",
       "    </tr>\n",
       "  </tbody>\n",
       "</table>\n",
       "</div>"
      ],
      "text/plain": [
       "   Unnamed: 0  steam_appid                              name  \\\n",
       "0           0          730  Counter-Strike: Global Offensive   \n",
       "1           1          570                            Dota 2   \n",
       "2           2       578080               PUBG: BATTLEGROUNDS   \n",
       "3           3      1172470                      Apex Legends   \n",
       "4           4      1446780               MONSTER HUNTER RISE   \n",
       "\n",
       "                                                tags  \n",
       "0  action multiplayer steamachievements fullcontr...  \n",
       "1  action multiplayer coop steamtradingcards stea...  \n",
       "2  action multiplayer pvp onlinepvp stats remotep...  \n",
       "3  action multiplayer pvp onlinepvp coop onlineco...  \n",
       "4  action singleplayer multiplayer coop onlinecoo...  "
      ]
     },
     "execution_count": 4,
     "metadata": {},
     "output_type": "execute_result"
    }
   ],
   "source": [
    "df.head()"
   ]
  },
  {
   "cell_type": "code",
   "execution_count": 5,
   "metadata": {
    "executionInfo": {
     "elapsed": 521,
     "status": "ok",
     "timestamp": 1658388572061,
     "user": {
      "displayName": "Soham Vishwasrao",
      "userId": "03759289313896667384"
     },
     "user_tz": -330
    },
    "id": "OcM1QaDACr6a"
   },
   "outputs": [],
   "source": [
    "from sklearn.feature_extraction.text import TfidfVectorizer\n",
    "from nltk.stem.porter import PorterStemmer"
   ]
  },
  {
   "cell_type": "code",
   "execution_count": 6,
   "metadata": {
    "executionInfo": {
     "elapsed": 7,
     "status": "ok",
     "timestamp": 1658388611398,
     "user": {
      "displayName": "Soham Vishwasrao",
      "userId": "03759289313896667384"
     },
     "user_tz": -330
    },
    "id": "b0hSF_8op-Ey"
   },
   "outputs": [],
   "source": [
    "ps = PorterStemmer()"
   ]
  },
  {
   "cell_type": "code",
   "execution_count": 7,
   "metadata": {
    "executionInfo": {
     "elapsed": 493,
     "status": "ok",
     "timestamp": 1658388624578,
     "user": {
      "displayName": "Soham Vishwasrao",
      "userId": "03759289313896667384"
     },
     "user_tz": -330
    },
    "id": "ZOTJaPr7qfuH"
   },
   "outputs": [],
   "source": [
    "def stem(s):\n",
    "  l = []\n",
    "  for i in s.split():\n",
    "    l.append(ps.stem(i))\n",
    "  s = \" \".join(l)\n",
    "  return s"
   ]
  },
  {
   "cell_type": "code",
   "execution_count": 8,
   "metadata": {
    "executionInfo": {
     "elapsed": 6360,
     "status": "ok",
     "timestamp": 1658388640487,
     "user": {
      "displayName": "Soham Vishwasrao",
      "userId": "03759289313896667384"
     },
     "user_tz": -330
    },
    "id": "stcSdqC-qi9d"
   },
   "outputs": [],
   "source": [
    "df['tags'] = df['tags'].apply(stem)"
   ]
  },
  {
   "cell_type": "code",
   "execution_count": 9,
   "metadata": {
    "executionInfo": {
     "elapsed": 615,
     "status": "ok",
     "timestamp": 1658388645958,
     "user": {
      "displayName": "Soham Vishwasrao",
      "userId": "03759289313896667384"
     },
     "user_tz": -330
    },
    "id": "CoMtofYxqlVX"
   },
   "outputs": [],
   "source": [
    "tfidf = TfidfVectorizer(max_features=3000,stop_words='english')"
   ]
  },
  {
   "cell_type": "code",
   "execution_count": 10,
   "metadata": {
    "executionInfo": {
     "elapsed": 522,
     "status": "ok",
     "timestamp": 1658388655941,
     "user": {
      "displayName": "Soham Vishwasrao",
      "userId": "03759289313896667384"
     },
     "user_tz": -330
    },
    "id": "kDBcFwUSqoDA"
   },
   "outputs": [],
   "source": [
    "vectors = tfidf.fit_transform(df['tags']).toarray()"
   ]
  },
  {
   "cell_type": "code",
   "execution_count": 11,
   "metadata": {
    "colab": {
     "base_uri": "https://localhost:8080/"
    },
    "executionInfo": {
     "elapsed": 400,
     "status": "ok",
     "timestamp": 1658388668330,
     "user": {
      "displayName": "Soham Vishwasrao",
      "userId": "03759289313896667384"
     },
     "user_tz": -330
    },
    "id": "wExHOWbTqqnx",
    "outputId": "c6c0148c-10e2-4dd1-8a53-85dca9650715"
   },
   "outputs": [
    {
     "data": {
      "text/plain": [
       "array([[0., 0., 0., ..., 0., 0., 0.],\n",
       "       [0., 0., 0., ..., 0., 0., 0.],\n",
       "       [0., 0., 0., ..., 0., 0., 0.],\n",
       "       ...,\n",
       "       [0., 0., 0., ..., 0., 0., 0.],\n",
       "       [0., 0., 0., ..., 0., 0., 0.],\n",
       "       [0., 0., 0., ..., 0., 0., 0.]])"
      ]
     },
     "execution_count": 11,
     "metadata": {},
     "output_type": "execute_result"
    }
   ],
   "source": [
    "vectors"
   ]
  },
  {
   "cell_type": "code",
   "execution_count": 12,
   "metadata": {
    "executionInfo": {
     "elapsed": 515,
     "status": "ok",
     "timestamp": 1658388707558,
     "user": {
      "displayName": "Soham Vishwasrao",
      "userId": "03759289313896667384"
     },
     "user_tz": -330
    },
    "id": "fG4JXY02qttY"
   },
   "outputs": [],
   "source": [
    "from sklearn.metrics.pairwise import cosine_similarity"
   ]
  },
  {
   "cell_type": "code",
   "execution_count": 13,
   "metadata": {
    "executionInfo": {
     "elapsed": 2006,
     "status": "ok",
     "timestamp": 1658388718637,
     "user": {
      "displayName": "Soham Vishwasrao",
      "userId": "03759289313896667384"
     },
     "user_tz": -330
    },
    "id": "qsVjkEzYq3JD"
   },
   "outputs": [],
   "source": [
    "similarity = cosine_similarity(vectors)"
   ]
  },
  {
   "cell_type": "code",
   "execution_count": 14,
   "metadata": {
    "colab": {
     "base_uri": "https://localhost:8080/"
    },
    "executionInfo": {
     "elapsed": 413,
     "status": "ok",
     "timestamp": 1658389289328,
     "user": {
      "displayName": "Soham Vishwasrao",
      "userId": "03759289313896667384"
     },
     "user_tz": -330
    },
    "id": "iZGZ2diFq5d9",
    "outputId": "727ecad2-e7b6-460d-843d-045d7f1c885b"
   },
   "outputs": [
    {
     "data": {
      "text/plain": [
       "array([1.        , 0.26582132, 0.14064059, ..., 0.01518613, 0.01788006,\n",
       "       0.06656336])"
      ]
     },
     "execution_count": 14,
     "metadata": {},
     "output_type": "execute_result"
    }
   ],
   "source": [
    "similarity[0]"
   ]
  },
  {
   "cell_type": "code",
   "execution_count": 15,
   "metadata": {
    "executionInfo": {
     "elapsed": 438,
     "status": "ok",
     "timestamp": 1658389402786,
     "user": {
      "displayName": "Soham Vishwasrao",
      "userId": "03759289313896667384"
     },
     "user_tz": -330
    },
    "id": "ZMhF2sLZq8w8"
   },
   "outputs": [],
   "source": [
    "k1 = sorted(list(enumerate(similarity[0])),reverse=True,key=lambda x:x[1])[:6]\n",
    "\n",
    "k2 = sorted(list(enumerate(similarity[1])),reverse=True,key=lambda x:x[1])[:6]"
   ]
  },
  {
   "cell_type": "code",
   "execution_count": 16,
   "metadata": {
    "colab": {
     "base_uri": "https://localhost:8080/"
    },
    "executionInfo": {
     "elapsed": 4,
     "status": "ok",
     "timestamp": 1658389404329,
     "user": {
      "displayName": "Soham Vishwasrao",
      "userId": "03759289313896667384"
     },
     "user_tz": -330
    },
    "id": "-oNHw3R7rhdy",
    "outputId": "d2a04180-b14f-493a-a24e-350907fced25"
   },
   "outputs": [
    {
     "data": {
      "text/plain": [
       "[(581, 0.5064236080270216),\n",
       " (2553, 0.43331354643615694),\n",
       " (2624, 0.39226658574953654),\n",
       " (124, 0.3844687373711558),\n",
       " (811, 0.3811727449027077)]"
      ]
     },
     "execution_count": 16,
     "metadata": {},
     "output_type": "execute_result"
    }
   ],
   "source": [
    "k1 = k1[1:]\n",
    "k1"
   ]
  },
  {
   "cell_type": "code",
   "execution_count": 17,
   "metadata": {
    "colab": {
     "base_uri": "https://localhost:8080/"
    },
    "executionInfo": {
     "elapsed": 413,
     "status": "ok",
     "timestamp": 1658389407194,
     "user": {
      "displayName": "Soham Vishwasrao",
      "userId": "03759289313896667384"
     },
     "user_tz": -330
    },
    "id": "uyqx4-FrrwdD",
    "outputId": "462976fb-1d36-412e-b816-588ac1816580"
   },
   "outputs": [
    {
     "data": {
      "text/plain": [
       "[(229, 0.3314387371338046),\n",
       " (1050, 0.30645107150084283),\n",
       " (1834, 0.2872152783602394),\n",
       " (1415, 0.27890755193302524),\n",
       " (843, 0.2751551262349293)]"
      ]
     },
     "execution_count": 17,
     "metadata": {},
     "output_type": "execute_result"
    }
   ],
   "source": [
    "k2 = k2[1:]\n",
    "k2"
   ]
  },
  {
   "cell_type": "code",
   "execution_count": 18,
   "metadata": {
    "colab": {
     "base_uri": "https://localhost:8080/"
    },
    "executionInfo": {
     "elapsed": 4,
     "status": "ok",
     "timestamp": 1658389409034,
     "user": {
      "displayName": "Soham Vishwasrao",
      "userId": "03759289313896667384"
     },
     "user_tz": -330
    },
    "id": "xW9ImPlzr4-S",
    "outputId": "4c359c7c-8ee9-4acb-d96d-954da12ba80c"
   },
   "outputs": [
    {
     "data": {
      "text/plain": [
       "[(581, 0.5064236080270216),\n",
       " (2553, 0.43331354643615694),\n",
       " (2624, 0.39226658574953654),\n",
       " (124, 0.3844687373711558),\n",
       " (811, 0.3811727449027077),\n",
       " (229, 0.3314387371338046),\n",
       " (1050, 0.30645107150084283),\n",
       " (1834, 0.2872152783602394),\n",
       " (1415, 0.27890755193302524),\n",
       " (843, 0.2751551262349293)]"
      ]
     },
     "execution_count": 18,
     "metadata": {},
     "output_type": "execute_result"
    }
   ],
   "source": [
    "k = k1+k2\n",
    "k"
   ]
  },
  {
   "cell_type": "code",
   "execution_count": 19,
   "metadata": {
    "colab": {
     "base_uri": "https://localhost:8080/"
    },
    "executionInfo": {
     "elapsed": 415,
     "status": "ok",
     "timestamp": 1658389414875,
     "user": {
      "displayName": "Soham Vishwasrao",
      "userId": "03759289313896667384"
     },
     "user_tz": -330
    },
    "id": "b5UwDokHsHG8",
    "outputId": "cb0ac431-f1b2-46e9-dd0c-9949847d3822"
   },
   "outputs": [
    {
     "data": {
      "text/plain": [
       "[(581, 0.5064236080270216),\n",
       " (2553, 0.43331354643615694),\n",
       " (2624, 0.39226658574953654),\n",
       " (124, 0.3844687373711558),\n",
       " (811, 0.3811727449027077),\n",
       " (229, 0.3314387371338046),\n",
       " (1050, 0.30645107150084283),\n",
       " (1834, 0.2872152783602394),\n",
       " (1415, 0.27890755193302524),\n",
       " (843, 0.2751551262349293)]"
      ]
     },
     "execution_count": 19,
     "metadata": {},
     "output_type": "execute_result"
    }
   ],
   "source": [
    "sorted(list(k),reverse=True,key= lambda x:x[1])"
   ]
  },
  {
   "cell_type": "code",
   "execution_count": 20,
   "metadata": {},
   "outputs": [],
   "source": [
    "actual_ratings_df = pd.DataFrame({\n",
    "    'user_id': [0, 1, 2, 2, 2, 2, 2, 2, 2, 2, 2, 2, 2, 2, 2, 2, 2, 2, 2, 2, 2, 2, 2, 3, 3, 3, 4, 4, 4, 4, 4, 4, 4, 4, 4, 4, 4, 4, 4, 4, 4, 4, 4, 4, 4, 4, 4, 4, 4, 4, 4, 4, 4, 4],\n",
    "    'steam_appid': [292030, 271590, 424840, 50130, 7670, 1180660, 393380, 205100, 377160, 72850, 412020, 307690, 271590, 532210, 108710, 1091500, 292030, 534380, 225540, 552520, 244210, 284160, 227300, 242050, 418370, 1222140, 730, 570, 578080, 1172470, 271590, 346110, 252490, 431960, 1086940, 221100, 739630, 220240, 648800, 220240, 892970, 221380, 221380, 333420, 945360, 571740, 40970, 105600, 413150, 1557740, 266840, 297000, 4760, 393380],\n",
    "    'actual rating': [9.0, 9.0, 10.0, 5.0, 2.0, 7.5, 8.0, 2.0, 5.0, 5.0, 8.0, 6.0, 6.0, 7.5, 5.0, 5.0, 5.0, 8.0, 4.0, 4.0, 7.5, 7.5, 7.5, 5.0, 2.0, 6.0, 4.0, 1.0, 2.0, 2.0, 5.0, 4.0, 5.0, 9.0, 6.0, 9.0, 5.0, 0.0, 1.5, 3.5, 7.5, 9.0, 3.0, 3.5, 5.0, 4.0, 5.0, 4.0, 2.0, 4.0, 5.0, 0.0, 3.0, 5.0]\n",
    "})\n",
    "\n",
    "data3 = pd.read_csv('data3.csv')\n",
    "actual_ratings_with_names = pd.merge(actual_ratings_df, data3, on='steam_appid')\n",
    "\n",
    "columns_to_keep = ['user_id', 'steam_appid', 'actual rating', 'name']\n",
    "actual_ratings_with_names = actual_ratings_with_names[columns_to_keep]"
   ]
  },
  {
   "cell_type": "code",
   "execution_count": 21,
   "metadata": {},
   "outputs": [
    {
     "name": "stdout",
     "output_type": "stream",
     "text": [
      "[0.5064236080270216, 0.43331354643615694, 0.39226658574953654, 0.3844687373711558, 0.3811727449027077, 0.3432071800364354]\n"
     ]
    }
   ],
   "source": [
    "desired_steam_appid = 730\n",
    "\n",
    "index = df[df['steam_appid'] == desired_steam_appid].index[0]\n",
    "\n",
    "game_similarity_scores = similarity[index]\n",
    "\n",
    "sorted_similarity_indices = sorted(range(1, len(game_similarity_scores)), key=lambda i: game_similarity_scores[i], reverse=True)\n",
    "\n",
    "top_6_similarity_scores = [game_similarity_scores[i] for i in sorted_similarity_indices[:6]]\n",
    "\n",
    "print(top_6_similarity_scores)"
   ]
  },
  {
   "cell_type": "code",
   "execution_count": 22,
   "metadata": {},
   "outputs": [
    {
     "name": "stdout",
     "output_type": "stream",
     "text": [
      "Weighted similarity score: 4.068087337538357\n"
     ]
    }
   ],
   "source": [
    "import numpy as np\n",
    "\n",
    "desired_steam_appid = 730\n",
    "index = df[df['steam_appid'] == desired_steam_appid].index[0]\n",
    "\n",
    "game_similarity_scores = similarity[index]\n",
    "\n",
    "sorted_similarity_indices = sorted(range(1, len(game_similarity_scores)), key=lambda i: game_similarity_scores[i], reverse=True)\n",
    "\n",
    "top_6_similarity_scores = [game_similarity_scores[i] for i in sorted_similarity_indices[:6]]\n",
    "\n",
    "average_similarity = np.mean(top_6_similarity_scores)\n",
    "\n",
    "weighted_similarity = average_similarity * 10\n",
    "\n",
    "print(\"Weighted similarity score:\", weighted_similarity)"
   ]
  },
  {
   "cell_type": "code",
   "execution_count": 23,
   "metadata": {},
   "outputs": [],
   "source": [
    "import numpy as np\n",
    "\n",
    "steam_appids = [292030, 271590, 424840, 50130, 7670, 1180660, 393380, 205100, 377160, 72850, 412020, 307690, 271590, 532210, 108710, 1091500, 292030, 534380, 225540, 552520, 244210, 284160, 227300, 242050, 418370, 1222140, 730, 570, 578080, 1172470, 271590, 346110, 252490, 431960, 1086940, 221100, 739630, 220240, 648800, 220240, 892970, 221380, 221380, 333420, 945360, 571740, 40970, 105600, 413150, 1557740, 266840, 297000, 4760, 393380]\n",
    "predicted_rating = []\n",
    "\n",
    "for appid in steam_appids:\n",
    "    index = df[df['steam_appid'] == appid].index[0]\n",
    "    \n",
    "    game_similarity_scores = similarity[index]\n",
    "    \n",
    "    sorted_similarity_indices = sorted(range(1, len(game_similarity_scores)), key=lambda i: game_similarity_scores[i], reverse=True)\n",
    "    \n",
    "    top_6_similarity_scores = [game_similarity_scores[i] for i in sorted_similarity_indices[:6]]\n",
    "    \n",
    "    average_similarity = np.mean(top_6_similarity_scores)\n",
    "    \n",
    "    weighted_similarity = average_similarity * 10\n",
    "    \n",
    "    predicted_rating.append(weighted_similarity)"
   ]
  },
  {
   "cell_type": "code",
   "execution_count": 24,
   "metadata": {},
   "outputs": [],
   "source": [
    "predicted_ratings_df = pd.DataFrame({\n",
    "    'user_id': [0, 1, 2, 2, 2, 2, 2, 2, 2, 2, 2, 2, 2, 2, 2, 2, 2, 2, 2, 2, 2, 2, 2, 3, 3, 3, 4, 4, 4, 4, 4, 4, 4, 4, 4, 4, 4, 4, 4, 4, 4, 4, 4, 4, 4, 4, 4, 4, 4, 4, 4, 4, 4, 4],\n",
    "    'steam_appid': [292030, 271590, 424840, 50130, 7670, 1180660, 393380, 205100, 377160, 72850, 412020, 307690, 271590, 532210, 108710, 1091500, 292030, 534380, 225540, 552520, 244210, 284160, 227300, 242050, 418370, 1222140, 730, 570, 578080, 1172470, 271590, 346110, 252490, 431960, 1086940, 221100, 739630, 220240, 648800, 220240, 892970, 221380, 221380, 333420, 945360, 571740, 40970, 105600, 413150, 1557740, 266840, 297000, 4760, 393380],\n",
    "    'predicted rating': predicted_rating\n",
    "})\n",
    "\n",
    "data3 = pd.read_csv('data3.csv')\n",
    "predicted_ratings_with_names = pd.merge(predicted_ratings_df, data3, on='steam_appid')\n",
    "\n",
    "columns_to_keep = ['user_id', 'steam_appid', 'predicted rating', 'name']\n",
    "predicted_ratings_with_names = predicted_ratings_with_names[columns_to_keep]"
   ]
  },
  {
   "cell_type": "code",
   "execution_count": 26,
   "metadata": {},
   "outputs": [
    {
     "data": {
      "text/html": [
       "<div>\n",
       "<style scoped>\n",
       "    .dataframe tbody tr th:only-of-type {\n",
       "        vertical-align: middle;\n",
       "    }\n",
       "\n",
       "    .dataframe tbody tr th {\n",
       "        vertical-align: top;\n",
       "    }\n",
       "\n",
       "    .dataframe thead th {\n",
       "        text-align: right;\n",
       "    }\n",
       "</style>\n",
       "<table border=\"1\" class=\"dataframe\">\n",
       "  <thead>\n",
       "    <tr style=\"text-align: right;\">\n",
       "      <th></th>\n",
       "      <th>user_id</th>\n",
       "      <th>steam_appid</th>\n",
       "      <th>actual rating</th>\n",
       "      <th>predicted rating</th>\n",
       "      <th>name</th>\n",
       "    </tr>\n",
       "  </thead>\n",
       "  <tbody>\n",
       "    <tr>\n",
       "      <th>0</th>\n",
       "      <td>0</td>\n",
       "      <td>292030</td>\n",
       "      <td>9.0</td>\n",
       "      <td>4.640919</td>\n",
       "      <td>The Witcher 3: Wild Hunt</td>\n",
       "    </tr>\n",
       "    <tr>\n",
       "      <th>1</th>\n",
       "      <td>1</td>\n",
       "      <td>271590</td>\n",
       "      <td>9.0</td>\n",
       "      <td>3.980669</td>\n",
       "      <td>Grand Theft Auto V</td>\n",
       "    </tr>\n",
       "    <tr>\n",
       "      <th>2</th>\n",
       "      <td>2</td>\n",
       "      <td>424840</td>\n",
       "      <td>10.0</td>\n",
       "      <td>4.163052</td>\n",
       "      <td>Little Nightmares</td>\n",
       "    </tr>\n",
       "    <tr>\n",
       "      <th>3</th>\n",
       "      <td>2</td>\n",
       "      <td>50130</td>\n",
       "      <td>5.0</td>\n",
       "      <td>4.235017</td>\n",
       "      <td>Mafia II (Classic)</td>\n",
       "    </tr>\n",
       "    <tr>\n",
       "      <th>4</th>\n",
       "      <td>2</td>\n",
       "      <td>7670</td>\n",
       "      <td>2.0</td>\n",
       "      <td>4.454317</td>\n",
       "      <td>BioShock</td>\n",
       "    </tr>\n",
       "    <tr>\n",
       "      <th>5</th>\n",
       "      <td>2</td>\n",
       "      <td>1180660</td>\n",
       "      <td>7.5</td>\n",
       "      <td>3.998131</td>\n",
       "      <td>Tell Me Why</td>\n",
       "    </tr>\n",
       "    <tr>\n",
       "      <th>6</th>\n",
       "      <td>2</td>\n",
       "      <td>393380</td>\n",
       "      <td>8.0</td>\n",
       "      <td>4.741070</td>\n",
       "      <td>Squad</td>\n",
       "    </tr>\n",
       "  </tbody>\n",
       "</table>\n",
       "</div>"
      ],
      "text/plain": [
       "   user_id  steam_appid  actual rating  predicted rating  \\\n",
       "0        0       292030            9.0          4.640919   \n",
       "1        1       271590            9.0          3.980669   \n",
       "2        2       424840           10.0          4.163052   \n",
       "3        2        50130            5.0          4.235017   \n",
       "4        2         7670            2.0          4.454317   \n",
       "5        2      1180660            7.5          3.998131   \n",
       "6        2       393380            8.0          4.741070   \n",
       "\n",
       "                       name  \n",
       "0  The Witcher 3: Wild Hunt  \n",
       "1        Grand Theft Auto V  \n",
       "2         Little Nightmares  \n",
       "3        Mafia II (Classic)  \n",
       "4                  BioShock  \n",
       "5               Tell Me Why  \n",
       "6                     Squad  "
      ]
     },
     "execution_count": 26,
     "metadata": {},
     "output_type": "execute_result"
    }
   ],
   "source": [
    "final_df = pd.merge(actual_ratings_with_names, predicted_ratings_with_names, on=['user_id', 'steam_appid'])\n",
    "\n",
    "columns_to_keep = ['user_id', 'steam_appid', 'actual rating', 'predicted rating', 'name_x']\n",
    "final_df = final_df[columns_to_keep]\n",
    "\n",
    "final_df = final_df.rename(columns={\n",
    "    'name_x': 'name'\n",
    "})\n",
    "\n",
    "final_df.head(7)"
   ]
  },
  {
   "cell_type": "code",
   "execution_count": 31,
   "metadata": {},
   "outputs": [
    {
     "name": "stdout",
     "output_type": "stream",
     "text": [
      "MAE: 2.069273763487834\n"
     ]
    }
   ],
   "source": [
    "from sklearn.metrics import mean_absolute_error\n",
    "\n",
    "actual_ratings = final_df['actual rating'].tolist()\n",
    "predicted_ratings = final_df['predicted rating'].tolist()\n",
    "\n",
    "mae = mean_absolute_error(actual_ratings, predicted_ratings)\n",
    "\n",
    "print(f'MAE: {mae}')"
   ]
  },
  {
   "cell_type": "code",
   "execution_count": 30,
   "metadata": {},
   "outputs": [
    {
     "name": "stdout",
     "output_type": "stream",
     "text": [
      "RMSE: 2.586700024179224\n"
     ]
    }
   ],
   "source": [
    "from sklearn.metrics import root_mean_squared_error\n",
    "\n",
    "actual_ratings = final_df['actual rating'].tolist()\n",
    "predicted_ratings = final_df['predicted rating'].tolist()\n",
    "\n",
    "rmse = root_mean_squared_error(actual_ratings, predicted_ratings)\n",
    "\n",
    "print(f\"RMSE: {rmse}\")"
   ]
  },
  {
   "cell_type": "code",
   "execution_count": null,
   "metadata": {},
   "outputs": [],
   "source": []
  },
  {
   "cell_type": "code",
   "execution_count": 1,
   "metadata": {},
   "outputs": [],
   "source": [
    "import pandas as pd\n",
    "import numpy as np\n",
    "from sklearn.feature_extraction.text import TfidfVectorizer\n",
    "from nltk.stem.porter import PorterStemmer\n",
    "from sklearn.metrics.pairwise import cosine_similarity"
   ]
  },
  {
   "cell_type": "code",
   "execution_count": null,
   "metadata": {},
   "outputs": [],
   "source": []
  }
 ],
 "metadata": {
  "colab": {
   "authorship_tag": "ABX9TyMEBvUr4w3mA6PLShRXw1c+",
   "mount_file_id": "136HUTVZzP23m4Krqs2Z5ImZrKnAuhYBi",
   "name": "grs_main.ipynb",
   "provenance": []
  },
  "kernelspec": {
   "display_name": "Python 3 (ipykernel)",
   "language": "python",
   "name": "python3"
  },
  "language_info": {
   "codemirror_mode": {
    "name": "ipython",
    "version": 3
   },
   "file_extension": ".py",
   "mimetype": "text/x-python",
   "name": "python",
   "nbconvert_exporter": "python",
   "pygments_lexer": "ipython3",
   "version": "3.9.13"
  }
 },
 "nbformat": 4,
 "nbformat_minor": 4
}
